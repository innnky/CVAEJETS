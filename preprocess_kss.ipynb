{
 "cells": [
  {
   "cell_type": "code",
   "execution_count": 5,
   "id": "e0edced4",
   "metadata": {},
   "outputs": [],
   "source": [
    "with open (\"kss/transcript.v.1.2.txt\", \"w\") as out:\n",
    "    with open(\"kss/transcript.v.1.4.txt\") as f:\n",
    "        for line in f.readlines():\n",
    "            split = line.split(\"|\")\n",
    "            out.write(f\"{split[0]}|{split[1]}|{split[2]}|{split[3]}|{split[4]}\\n\")\n",
    "            "
   ]
  },
  {
   "cell_type": "code",
   "execution_count": null,
   "id": "2a740e7a",
   "metadata": {},
   "outputs": [],
   "source": []
  }
 ],
 "metadata": {
  "kernelspec": {
   "display_name": "Python 3 (ipykernel)",
   "language": "python",
   "name": "python3"
  },
  "language_info": {
   "codemirror_mode": {
    "name": "ipython",
    "version": 3
   },
   "file_extension": ".py",
   "mimetype": "text/x-python",
   "name": "python",
   "nbconvert_exporter": "python",
   "pygments_lexer": "ipython3",
   "version": "3.8.13"
  }
 },
 "nbformat": 4,
 "nbformat_minor": 5
}
