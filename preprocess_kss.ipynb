{
 "cells": [
  {
   "cell_type": "code",
   "execution_count": 5,
   "id": "e0edced4",
   "metadata": {},
   "outputs": [],
   "source": [
    "with open (\"kss/transcript.v.1.2.txt\", \"w\") as out:\n",
    "    with open(\"kss/transcript.v.1.4.txt\") as f:\n",
    "        for line in f.readlines():\n",
    "            split = line.split(\"|\")\n",
    "            out.write(f\"{split[0]}|{split[1]}|{split[2]}|{split[3]}|{split[4]}\\n\")\n",
    "            "
   ]
  },
  {
   "cell_type": "code",
   "execution_count": 3,
   "id": "2a740e7a",
   "metadata": {},
   "outputs": [],
   "source": [
    "cleaned = open(\"/Users/xingyijin/Downloads/train_cleaned.txt\")\n",
    "raw = open(\"/Users/xingyijin/Downloads/train.txt\")\n",
    "valid_wavs = [i.split(\"|\")[0] for i in cleaned.readlines()]"
   ]
  },
  {
   "cell_type": "code",
   "execution_count": 4,
   "outputs": [],
   "source": [
    "with open(\"/Users/xingyijin/Downloads/raw_out.txt\", \"w\") as f:\n",
    "    for line in raw.readlines():\n",
    "        if line.split(\"|\")[0] in valid_wavs:\n",
    "            f.write(line)\n"
   ],
   "metadata": {
    "collapsed": false,
    "pycharm": {
     "name": "#%%\n"
    }
   }
  },
  {
   "cell_type": "code",
   "execution_count": null,
   "outputs": [],
   "source": [
    "import  os\n",
    "import librosa\n",
    "import soundfile as sf\n",
    "\n",
    "for wav in sorted(os.listdir(\"dataset/biaobei\")):\n",
    "    audio, sr = librosa.load(f\"dataset/biaobei/{wav}\", 22050)\n",
    "    sf.write(f\"dataset/biaobei/{wav}\", audio, sr)\n",
    "    print(wav)"
   ],
   "metadata": {
    "collapsed": false,
    "pycharm": {
     "name": "#%%\n"
    }
   }
  },
  {
   "cell_type": "code",
   "execution_count": null,
   "outputs": [],
   "source": [],
   "metadata": {
    "collapsed": false,
    "pycharm": {
     "name": "#%%\n"
    }
   }
  }
 ],
 "metadata": {
  "kernelspec": {
   "display_name": "Python 3 (ipykernel)",
   "language": "python",
   "name": "python3"
  },
  "language_info": {
   "codemirror_mode": {
    "name": "ipython",
    "version": 3
   },
   "file_extension": ".py",
   "mimetype": "text/x-python",
   "name": "python",
   "nbconvert_exporter": "python",
   "pygments_lexer": "ipython3",
   "version": "3.8.13"
  }
 },
 "nbformat": 4,
 "nbformat_minor": 5
}